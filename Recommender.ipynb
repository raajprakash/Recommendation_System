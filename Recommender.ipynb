{
  "nbformat": 4,
  "nbformat_minor": 0,
  "metadata": {
    "kernelspec": {
      "display_name": "Python 3",
      "language": "python",
      "name": "python3"
    },
    "language_info": {
      "codemirror_mode": {
        "name": "ipython",
        "version": 3
      },
      "file_extension": ".py",
      "mimetype": "text/x-python",
      "name": "python",
      "nbconvert_exporter": "python",
      "pygments_lexer": "ipython3",
      "version": "3.7.1"
    },
    "colab": {
      "name": "Recommender.ipynb",
      "version": "0.3.2",
      "provenance": []
    }
  },
  "cells": [
    {
      "cell_type": "code",
      "metadata": {
        "id": "tTGjlQ54RtJe",
        "colab_type": "code",
        "colab": {}
      },
      "source": [
        "import pandas as pd\n",
        "from sklearn.model_selection import train_test_split\n",
        "from keras.optimizers import Adam\n",
        "from keras.models import Model\n",
        "from keras.layers.embeddings import Embedding\n",
        "from keras.optimizers import Adam\n",
        "from sklearn.preprocessing import LabelEncoder\n",
        "import numpy as np\n",
        "from sklearn.metrics import mean_absolute_error"
      ],
      "execution_count": 0,
      "outputs": []
    },
    {
      "cell_type": "code",
      "metadata": {
        "id": "7YQt4_nyRtJi",
        "colab_type": "code",
        "colab": {},
        "outputId": "a5f5336a-94f0-4241-dcbf-6284c0f9243f"
      },
      "source": [
        "ratings = pd.read_csv('ratings.csv')\n",
        "movies = pd.read_csv('movies.csv')\n",
        "ratings.head()"
      ],
      "execution_count": 0,
      "outputs": [
        {
          "output_type": "execute_result",
          "data": {
            "text/html": [
              "<div>\n",
              "<style scoped>\n",
              "    .dataframe tbody tr th:only-of-type {\n",
              "        vertical-align: middle;\n",
              "    }\n",
              "\n",
              "    .dataframe tbody tr th {\n",
              "        vertical-align: top;\n",
              "    }\n",
              "\n",
              "    .dataframe thead th {\n",
              "        text-align: right;\n",
              "    }\n",
              "</style>\n",
              "<table border=\"1\" class=\"dataframe\">\n",
              "  <thead>\n",
              "    <tr style=\"text-align: right;\">\n",
              "      <th></th>\n",
              "      <th>userId</th>\n",
              "      <th>movieId</th>\n",
              "      <th>rating</th>\n",
              "      <th>timestamp</th>\n",
              "    </tr>\n",
              "  </thead>\n",
              "  <tbody>\n",
              "    <tr>\n",
              "      <th>0</th>\n",
              "      <td>1</td>\n",
              "      <td>1</td>\n",
              "      <td>4.0</td>\n",
              "      <td>964982703</td>\n",
              "    </tr>\n",
              "    <tr>\n",
              "      <th>1</th>\n",
              "      <td>1</td>\n",
              "      <td>3</td>\n",
              "      <td>4.0</td>\n",
              "      <td>964981247</td>\n",
              "    </tr>\n",
              "    <tr>\n",
              "      <th>2</th>\n",
              "      <td>1</td>\n",
              "      <td>6</td>\n",
              "      <td>4.0</td>\n",
              "      <td>964982224</td>\n",
              "    </tr>\n",
              "    <tr>\n",
              "      <th>3</th>\n",
              "      <td>1</td>\n",
              "      <td>47</td>\n",
              "      <td>5.0</td>\n",
              "      <td>964983815</td>\n",
              "    </tr>\n",
              "    <tr>\n",
              "      <th>4</th>\n",
              "      <td>1</td>\n",
              "      <td>50</td>\n",
              "      <td>5.0</td>\n",
              "      <td>964982931</td>\n",
              "    </tr>\n",
              "  </tbody>\n",
              "</table>\n",
              "</div>"
            ],
            "text/plain": [
              "   userId  movieId  rating  timestamp\n",
              "0       1        1     4.0  964982703\n",
              "1       1        3     4.0  964981247\n",
              "2       1        6     4.0  964982224\n",
              "3       1       47     5.0  964983815\n",
              "4       1       50     5.0  964982931"
            ]
          },
          "metadata": {
            "tags": []
          },
          "execution_count": 2
        }
      ]
    },
    {
      "cell_type": "code",
      "metadata": {
        "id": "bM49vF_sRtJm",
        "colab_type": "code",
        "colab": {}
      },
      "source": [
        "encoder = LabelEncoder()\n",
        "rate = ratings['userId'].values\n",
        "ra = encoder.fit_transform(rate)\n",
        "ratings['user'] = ra\n",
        "usr1 = ratings['user'].unique()\n",
        "usr = len(usr1)\n"
      ],
      "execution_count": 0,
      "outputs": []
    },
    {
      "cell_type": "code",
      "metadata": {
        "id": "dk7jy9B5RtJo",
        "colab_type": "code",
        "colab": {}
      },
      "source": [
        "item = ratings['movieId'].values\n",
        "mov_itm = encoder.fit_transform(item)\n",
        "ratings['movie'] = mov_itm\n",
        "n_movies1 = ratings['movie'].unique()\n",
        "names = len(n_movies1)\n",
        "ratings['rating'] = ratings['rating'].values\n"
      ],
      "execution_count": 0,
      "outputs": []
    },
    {
      "cell_type": "code",
      "metadata": {
        "id": "_PdcCG_oRtJr",
        "colab_type": "code",
        "colab": {},
        "outputId": "0e6db9a5-b935-47ad-8a52-8e1f268498b9"
      },
      "source": [
        "X.shape"
      ],
      "execution_count": 0,
      "outputs": [
        {
          "output_type": "execute_result",
          "data": {
            "text/plain": [
              "(100836, 2)"
            ]
          },
          "metadata": {
            "tags": []
          },
          "execution_count": 37
        }
      ]
    },
    {
      "cell_type": "code",
      "metadata": {
        "scrolled": true,
        "id": "7A-pLt9oRtJx",
        "colab_type": "code",
        "colab": {}
      },
      "source": [
        "X = ratings[['user', 'movie']].values\n",
        "y = ratings['rating'].values\n",
        "X_train1, X_test1, y_train, y_test = train_test_split(X, y, test_size=0.2, random_state=None)\n",
        "a = (X_train1[0:60000,0])\n",
        "b = (X_train1[0:60000,1])\n",
        "c = (X_test1[:60000,0])\n",
        "d = (X_test1[:60000,1])\n",
        "aa = (X_train1[60000:,0])\n",
        "yy = (X_train1[60000:,0])\n",
        "x_train =[a,b]  \n",
        "x_test = [c,d]\n",
        "xx = [aa,bb]"
      ],
      "execution_count": 0,
      "outputs": []
    },
    {
      "cell_type": "code",
      "metadata": {
        "id": "SMvMU56yRtJz",
        "colab_type": "code",
        "colab": {}
      },
      "source": [
        "Y_train = (y_train[0:60000])\n",
        "yy = (y_train[60000:])"
      ],
      "execution_count": 0,
      "outputs": []
    },
    {
      "cell_type": "code",
      "metadata": {
        "id": "RrrX5Y47RtJ2",
        "colab_type": "code",
        "colab": {}
      },
      "source": [
        "def Recommends(usrs, names, values):\n",
        "    user = Input(shape=(1,)) \n",
        "    u = Embedding(usrs , values, embeddings_initializer='he_normal',\n",
        "                  embeddings_regularizer=l2(1e-6))(user)\n",
        "    u = Reshape((values,))(u)\n",
        "    \n",
        "    movie = Input(shape=(1,))\n",
        "    m = Embedding(names , values, embeddings_initializer='he_normal',\n",
        "                  embeddings_regularizer=l2(1e-6))(movie)\n",
        "    m = Reshape((values,))(m)\n",
        "    \n",
        "    x = Dot(axes=1)([u, m])\n",
        "    model = Model(inputs=[user, movie], outputs=x)\n",
        "    opt = Adam(lr=0.001)\n",
        "    model.compile(loss='mean_squared_error', optimizer=opt)\n",
        "    return model"
      ],
      "execution_count": 0,
      "outputs": []
    },
    {
      "cell_type": "code",
      "metadata": {
        "id": "QqXAZZyLRtJ4",
        "colab_type": "code",
        "colab": {},
        "outputId": "c7341237-4066-4b63-8e76-4396ad272a4f"
      },
      "source": [
        "n_factors = 50\n",
        "recommend = Recommends(usr, n_movies, n_factors)\n",
        "recommend.summary()"
      ],
      "execution_count": 0,
      "outputs": [
        {
          "output_type": "stream",
          "text": [
            "__________________________________________________________________________________________________\n",
            "Layer (type)                    Output Shape         Param #     Connected to                     \n",
            "==================================================================================================\n",
            "input_9 (InputLayer)            (None, 1)            0                                            \n",
            "__________________________________________________________________________________________________\n",
            "input_10 (InputLayer)           (None, 1)            0                                            \n",
            "__________________________________________________________________________________________________\n",
            "embedding_9 (Embedding)         (None, 1, 50)        30500       input_9[0][0]                    \n",
            "__________________________________________________________________________________________________\n",
            "embedding_10 (Embedding)        (None, 1, 50)        486200      input_10[0][0]                   \n",
            "__________________________________________________________________________________________________\n",
            "reshape_9 (Reshape)             (None, 50)           0           embedding_9[0][0]                \n",
            "__________________________________________________________________________________________________\n",
            "reshape_10 (Reshape)            (None, 50)           0           embedding_10[0][0]               \n",
            "__________________________________________________________________________________________________\n",
            "dot_5 (Dot)                     (None, 1)            0           reshape_9[0][0]                  \n",
            "                                                                 reshape_10[0][0]                 \n",
            "==================================================================================================\n",
            "Total params: 516,700\n",
            "Trainable params: 516,700\n",
            "Non-trainable params: 0\n",
            "__________________________________________________________________________________________________\n"
          ],
          "name": "stdout"
        }
      ]
    },
    {
      "cell_type": "code",
      "metadata": {
        "id": "a6XRpE5RRtJ8",
        "colab_type": "code",
        "colab": {},
        "outputId": "265c9517-2b81-4b1c-f360-8681ac96fc6a"
      },
      "source": [
        "logs = recommend.fit(x=x_train, y = Y_train,batch_size = 64, epochs=5,verbose=1,validation_data= (x_test,y_test))"
      ],
      "execution_count": 0,
      "outputs": [
        {
          "output_type": "stream",
          "text": [
            "Train on 60000 samples, validate on 20168 samples\n",
            "Epoch 1/5\n",
            "60000/60000 [==============================] - 12s 194us/step - loss: 11.8862 - val_loss: 6.7243\n",
            "Epoch 2/5\n",
            "60000/60000 [==============================] - 11s 187us/step - loss: 3.4341 - val_loss: 2.3827\n",
            "Epoch 3/5\n",
            "60000/60000 [==============================] - 12s 208us/step - loss: 1.5293 - val_loss: 1.7288\n",
            "Epoch 4/5\n",
            "60000/60000 [==============================] - 11s 189us/step - loss: 1.0238 - val_loss: 1.5138\n",
            "Epoch 5/5\n",
            "60000/60000 [==============================] - 11s 189us/step - loss: 0.7942 - val_loss: 1.4292\n"
          ],
          "name": "stdout"
        }
      ]
    },
    {
      "cell_type": "code",
      "metadata": {
        "id": "2Kis4_-IRtJ_",
        "colab_type": "code",
        "colab": {},
        "outputId": "73d6434c-e155-4184-ecdc-145b340658b2"
      },
      "source": [
        "y_pred = np.round(recommend.predict(xx))\n",
        "score = mean_absolute_error(yy, y_pred)\n",
        "print(score)"
      ],
      "execution_count": 0,
      "outputs": [
        {
          "output_type": "stream",
          "text": [
            "0.9938068511708922\n"
          ],
          "name": "stdout"
        }
      ]
    }
  ]
}